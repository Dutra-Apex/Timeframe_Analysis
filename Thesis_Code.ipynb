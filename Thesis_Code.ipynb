{
  "cells": [
    {
      "cell_type": "markdown",
      "metadata": {
        "id": "view-in-github",
        "colab_type": "text"
      },
      "source": [
        "<a href=\"https://colab.research.google.com/github/Dutra-Apex/Timeframe_Analysis/blob/main/Thesis_Code.ipynb\" target=\"_parent\"><img src=\"https://colab.research.google.com/assets/colab-badge.svg\" alt=\"Open In Colab\"/></a>"
      ]
    },
    {
      "cell_type": "markdown",
      "metadata": {
        "id": "mmI56YZfrDjl"
      },
      "source": [
        "# Introduction\n",
        "\n",
        "This pipeline requires the following inputs from the user:\n",
        "\n",
        "- A csv file continaing the timeseries data to be trained and analyzed on;\n",
        "- The x and y prediction range, where x is the amount of data used to predict y days in the future;\n",
        "\n",
        "\n",
        "The pipeline returns the following:\n",
        "- A linear and LSTM model trained on x% of the data;\n",
        "- A forceasting plot for the naive, linear and LSTM model;\n",
        "- Multiple accuracy metrics evaulated on test set."
      ]
    },
    {
      "cell_type": "code",
      "execution_count": null,
      "metadata": {
        "colab": {
          "base_uri": "https://localhost:8080/"
        },
        "id": "c-uo5u99ujrX",
        "outputId": "75517381-079b-4a82-9be5-1557c9e67d17"
      },
      "outputs": [
        {
          "output_type": "stream",
          "name": "stdout",
          "text": [
            "Mounted at /content/drive\n"
          ]
        }
      ],
      "source": [
        "import tensorflow as tf\n",
        "import keras\n",
        "import numpy as np\n",
        "import matplotlib.pyplot as plt\n",
        "import pandas as pd\n",
        "import sklearn\n",
        "import math\n",
        "import random\n",
        "import os\n",
        "from sklearn.metrics import mean_squared_error\n",
        "from sklearn.linear_model import LinearRegression\n",
        "from sklearn.preprocessing import MinMaxScaler\n",
        "from sklearn.model_selection import train_test_split\n",
        "from keras.layers.core import Dense, Activation, Dropout, Flatten, RepeatVector\n",
        "from keras.layers import TimeDistributed\n",
        "from keras.preprocessing.sequence import TimeseriesGenerator\n",
        "from keras.preprocessing import sequence\n",
        "from keras.models import Sequential\n",
        "from keras.layers import Dense, LSTM, Embedding, Bidirectional\n",
        "from google.colab import drive\n",
        "plt.style.use('fivethirtyeight')\n",
        "drive.mount('/content/drive')"
      ]
    },
    {
      "cell_type": "code",
      "execution_count": null,
      "metadata": {
        "id": "cZWdjRZWT7Hr"
      },
      "outputs": [],
      "source": [
        "cleaned_data = '/content/drive/My Drive/Thesis - Dutra/data/'\n",
        "os.chdir(cleaned_data)"
      ]
    },
    {
      "cell_type": "code",
      "execution_count": null,
      "metadata": {
        "id": "3M2PbxW_m1up"
      },
      "outputs": [],
      "source": [
        "minute_stocks = pd.read_csv('minute_2022_2023.csv')\n",
        "hourly_stocks = pd.read_csv('hourly_2022_2023.csv')\n",
        "daily_stocks = pd.read_csv('daily_2022_2023.csv')"
      ]
    },
    {
      "cell_type": "code",
      "execution_count": null,
      "metadata": {
        "id": "cql9lbrK6yFs"
      },
      "outputs": [],
      "source": [
        "btc_m = pd.read_csv('btc_minute.csv')\n",
        "btc_h = pd.read_csv('btc_hourly.csv')\n",
        "btc_d = pd.read_csv('btc_daily.csv')"
      ]
    },
    {
      "cell_type": "code",
      "execution_count": null,
      "metadata": {
        "id": "qmNxbC8xLdyg"
      },
      "outputs": [],
      "source": [
        "btc_m = btc_m[btc_m['DateTime']>'2019-12-31'].reset_index()\n",
        "btc_h = btc_h[btc_h['DateTime']>'2019-12-31'].reset_index()\n",
        "btc_d = btc_d[btc_d['DateTime']>'2019-12-31'].reset_index()"
      ]
    },
    {
      "cell_type": "code",
      "execution_count": null,
      "metadata": {
        "id": "79NBg_5kt0FO"
      },
      "outputs": [],
      "source": [
        "# User parameters:\n",
        "x_range = 15\n",
        "y_range = 5\n",
        "\n",
        "test_size = 0.2\n",
        "\n",
        "# batch_size = 30\n",
        "# epochs = 30\n",
        "\n",
        "\n",
        "# data = btc_h[btc_h['DateTime']>'2016-12-31'].reset_index()\n",
        "\n",
        "data = daily_stocks\n",
        "daily_data = daily_stocks\n",
        "\n",
        "timeframe = 'day'\n",
        "\n",
        "stock = \"/NQ\"\n",
        "datetime = 'DateTime'"
      ]
    },
    {
      "cell_type": "markdown",
      "metadata": {
        "id": "Gdslb8NcjW-u"
      },
      "source": [
        "# Data Wrangling\n",
        " Used to pad missing values, and to get the daily and hourly frames from the minute data\n",
        " "
      ]
    },
    {
      "cell_type": "markdown",
      "metadata": {
        "id": "auHkOqunj-X-"
      },
      "source": [
        "## Padding missing values"
      ]
    },
    {
      "cell_type": "code",
      "execution_count": null,
      "metadata": {
        "id": "upBhYp35juHS"
      },
      "outputs": [],
      "source": [
        "test = btc_m.set_index(\"timestamp\")"
      ]
    },
    {
      "cell_type": "code",
      "execution_count": null,
      "metadata": {
        "colab": {
          "base_uri": "https://localhost:8080/"
        },
        "id": "zIjPILxMjuHT",
        "outputId": "61b5f242-080b-4922-a090-828ad4a8f2ea"
      },
      "outputs": [
        {
          "data": {
            "text/plain": [
              "60     1956136\n",
              "120         78\n",
              "180         12\n",
              "240         11\n",
              "420          9\n",
              "Name: timestamp, dtype: int64"
            ]
          },
          "execution_count": 5,
          "metadata": {},
          "output_type": "execute_result"
        }
      ],
      "source": [
        "(test.index[1:]-test.index[:-1]).value_counts().head()"
      ]
    },
    {
      "cell_type": "code",
      "execution_count": null,
      "metadata": {
        "id": "yyYApIVijuHT"
      },
      "outputs": [],
      "source": [
        "test = test.reindex(range(test.index[0],test.index[-1]+60,60),method='pad')"
      ]
    },
    {
      "cell_type": "code",
      "execution_count": null,
      "metadata": {
        "colab": {
          "base_uri": "https://localhost:8080/"
        },
        "id": "dLpfySfxjuHT",
        "outputId": "b0497452-23ef-4d0c-8bbf-00e07af464a9"
      },
      "outputs": [
        {
          "data": {
            "text/plain": [
              "60    4578728\n",
              "Name: Unix_Timestamp, dtype: int64"
            ]
          },
          "execution_count": 70,
          "metadata": {},
          "output_type": "execute_result"
        }
      ],
      "source": [
        "(test.index[1:]-test.index[:-1]).value_counts().head()"
      ]
    },
    {
      "cell_type": "markdown",
      "metadata": {
        "id": "dzNMqpZBkBf4"
      },
      "source": [
        "## Get other time frames from minute"
      ]
    },
    {
      "cell_type": "code",
      "execution_count": null,
      "metadata": {
        "id": "8gpmeHOEsKil"
      },
      "outputs": [],
      "source": [
        "market_open = pd.to_datetime('9:30:00').time()\n",
        "market_close = pd.to_datetime('16:00:00').time()\n",
        "\n",
        "clean_data = []\n",
        "for i in list_data:\n",
        "  i['DateTime'] = pd.to_datetime(i['TimeStamp'])\n",
        "  time = pd.to_datetime(i['TimeStamp']).dt.time\n",
        "  clean_data.append(i[(time < market_close) & (time >= market_open)])"
      ]
    },
    {
      "cell_type": "code",
      "execution_count": null,
      "metadata": {
        "id": "8ymdjA1VscNk"
      },
      "outputs": [],
      "source": [
        "minute = []\n",
        "for i in range(len(clean_data)):\n",
        "  groupkey=pd.to_datetime(clean_data[i]['DateTime'].dt.strftime('%Y-%m-%d %H:%MM'))\n",
        "  minute.append(clean_data[i].groupby(groupkey).agg({'TimeStamp':'first', 'SPY':'first','/NQ':'first',\n",
        "                                    'MSFT':'first','AAPL':'first',\n",
        "                                    '/RTY':'first'}))"
      ]
    },
    {
      "cell_type": "code",
      "execution_count": null,
      "metadata": {
        "id": "aWzGIweRJYcW"
      },
      "outputs": [],
      "source": [
        "final_df = pd.concat(minute)"
      ]
    },
    {
      "cell_type": "code",
      "execution_count": null,
      "metadata": {
        "colab": {
          "base_uri": "https://localhost:8080/"
        },
        "id": "nvAHumauMiim",
        "outputId": "cd9cbe39-1555-4f8a-bfb9-ec0f55d99747"
      },
      "outputs": [
        {
          "data": {
            "text/html": [
              "\n",
              "  <div id=\"df-af35058b-fbd6-4536-a19c-2c7e870bba77\">\n",
              "    <div class=\"colab-df-container\">\n",
              "      <div>\n",
              "<style scoped>\n",
              "    .dataframe tbody tr th:only-of-type {\n",
              "        vertical-align: middle;\n",
              "    }\n",
              "\n",
              "    .dataframe tbody tr th {\n",
              "        vertical-align: top;\n",
              "    }\n",
              "\n",
              "    .dataframe thead th {\n",
              "        text-align: right;\n",
              "    }\n",
              "</style>\n",
              "<table border=\"1\" class=\"dataframe\">\n",
              "  <thead>\n",
              "    <tr style=\"text-align: right;\">\n",
              "      <th></th>\n",
              "      <th>TimeStamp</th>\n",
              "      <th>SPY</th>\n",
              "      <th>/NQ</th>\n",
              "      <th>MSFT</th>\n",
              "      <th>AAPL</th>\n",
              "      <th>/RTY</th>\n",
              "    </tr>\n",
              "    <tr>\n",
              "      <th>DateTime</th>\n",
              "      <th></th>\n",
              "      <th></th>\n",
              "      <th></th>\n",
              "      <th></th>\n",
              "      <th></th>\n",
              "      <th></th>\n",
              "    </tr>\n",
              "  </thead>\n",
              "  <tbody>\n",
              "    <tr>\n",
              "      <th>2022-01-03 09:30:00</th>\n",
              "      <td>2022-01-03 09:30:02.000</td>\n",
              "      <td>476.320</td>\n",
              "      <td>16383.00</td>\n",
              "      <td>335.3500</td>\n",
              "      <td>177.850</td>\n",
              "      <td>2255.7</td>\n",
              "    </tr>\n",
              "    <tr>\n",
              "      <th>2022-01-03 09:31:00</th>\n",
              "      <td>2022-01-03 09:31:00.000</td>\n",
              "      <td>476.475</td>\n",
              "      <td>16408.00</td>\n",
              "      <td>336.2700</td>\n",
              "      <td>178.110</td>\n",
              "      <td>2261.5</td>\n",
              "    </tr>\n",
              "    <tr>\n",
              "      <th>2022-01-03 09:32:00</th>\n",
              "      <td>2022-01-03 09:32:00.000</td>\n",
              "      <td>476.690</td>\n",
              "      <td>16426.50</td>\n",
              "      <td>337.3000</td>\n",
              "      <td>178.810</td>\n",
              "      <td>2257.8</td>\n",
              "    </tr>\n",
              "    <tr>\n",
              "      <th>2022-01-03 09:33:00</th>\n",
              "      <td>2022-01-03 09:33:00.000</td>\n",
              "      <td>476.610</td>\n",
              "      <td>16433.25</td>\n",
              "      <td>336.7698</td>\n",
              "      <td>178.905</td>\n",
              "      <td>2261.6</td>\n",
              "    </tr>\n",
              "    <tr>\n",
              "      <th>2022-01-03 09:34:00</th>\n",
              "      <td>2022-01-03 09:34:00.000</td>\n",
              "      <td>476.920</td>\n",
              "      <td>16437.75</td>\n",
              "      <td>336.8300</td>\n",
              "      <td>178.940</td>\n",
              "      <td>2266.9</td>\n",
              "    </tr>\n",
              "  </tbody>\n",
              "</table>\n",
              "</div>\n",
              "      <button class=\"colab-df-convert\" onclick=\"convertToInteractive('df-af35058b-fbd6-4536-a19c-2c7e870bba77')\"\n",
              "              title=\"Convert this dataframe to an interactive table.\"\n",
              "              style=\"display:none;\">\n",
              "        \n",
              "  <svg xmlns=\"http://www.w3.org/2000/svg\" height=\"24px\"viewBox=\"0 0 24 24\"\n",
              "       width=\"24px\">\n",
              "    <path d=\"M0 0h24v24H0V0z\" fill=\"none\"/>\n",
              "    <path d=\"M18.56 5.44l.94 2.06.94-2.06 2.06-.94-2.06-.94-.94-2.06-.94 2.06-2.06.94zm-11 1L8.5 8.5l.94-2.06 2.06-.94-2.06-.94L8.5 2.5l-.94 2.06-2.06.94zm10 10l.94 2.06.94-2.06 2.06-.94-2.06-.94-.94-2.06-.94 2.06-2.06.94z\"/><path d=\"M17.41 7.96l-1.37-1.37c-.4-.4-.92-.59-1.43-.59-.52 0-1.04.2-1.43.59L10.3 9.45l-7.72 7.72c-.78.78-.78 2.05 0 2.83L4 21.41c.39.39.9.59 1.41.59.51 0 1.02-.2 1.41-.59l7.78-7.78 2.81-2.81c.8-.78.8-2.07 0-2.86zM5.41 20L4 18.59l7.72-7.72 1.47 1.35L5.41 20z\"/>\n",
              "  </svg>\n",
              "      </button>\n",
              "      \n",
              "  <style>\n",
              "    .colab-df-container {\n",
              "      display:flex;\n",
              "      flex-wrap:wrap;\n",
              "      gap: 12px;\n",
              "    }\n",
              "\n",
              "    .colab-df-convert {\n",
              "      background-color: #E8F0FE;\n",
              "      border: none;\n",
              "      border-radius: 50%;\n",
              "      cursor: pointer;\n",
              "      display: none;\n",
              "      fill: #1967D2;\n",
              "      height: 32px;\n",
              "      padding: 0 0 0 0;\n",
              "      width: 32px;\n",
              "    }\n",
              "\n",
              "    .colab-df-convert:hover {\n",
              "      background-color: #E2EBFA;\n",
              "      box-shadow: 0px 1px 2px rgba(60, 64, 67, 0.3), 0px 1px 3px 1px rgba(60, 64, 67, 0.15);\n",
              "      fill: #174EA6;\n",
              "    }\n",
              "\n",
              "    [theme=dark] .colab-df-convert {\n",
              "      background-color: #3B4455;\n",
              "      fill: #D2E3FC;\n",
              "    }\n",
              "\n",
              "    [theme=dark] .colab-df-convert:hover {\n",
              "      background-color: #434B5C;\n",
              "      box-shadow: 0px 1px 3px 1px rgba(0, 0, 0, 0.15);\n",
              "      filter: drop-shadow(0px 1px 2px rgba(0, 0, 0, 0.3));\n",
              "      fill: #FFFFFF;\n",
              "    }\n",
              "  </style>\n",
              "\n",
              "      <script>\n",
              "        const buttonEl =\n",
              "          document.querySelector('#df-af35058b-fbd6-4536-a19c-2c7e870bba77 button.colab-df-convert');\n",
              "        buttonEl.style.display =\n",
              "          google.colab.kernel.accessAllowed ? 'block' : 'none';\n",
              "\n",
              "        async function convertToInteractive(key) {\n",
              "          const element = document.querySelector('#df-af35058b-fbd6-4536-a19c-2c7e870bba77');\n",
              "          const dataTable =\n",
              "            await google.colab.kernel.invokeFunction('convertToInteractive',\n",
              "                                                     [key], {});\n",
              "          if (!dataTable) return;\n",
              "\n",
              "          const docLinkHtml = 'Like what you see? Visit the ' +\n",
              "            '<a target=\"_blank\" href=https://colab.research.google.com/notebooks/data_table.ipynb>data table notebook</a>'\n",
              "            + ' to learn more about interactive tables.';\n",
              "          element.innerHTML = '';\n",
              "          dataTable['output_type'] = 'display_data';\n",
              "          await google.colab.output.renderOutput(dataTable, element);\n",
              "          const docLink = document.createElement('div');\n",
              "          docLink.innerHTML = docLinkHtml;\n",
              "          element.appendChild(docLink);\n",
              "        }\n",
              "      </script>\n",
              "    </div>\n",
              "  </div>\n",
              "  "
            ],
            "text/plain": [
              "                                   TimeStamp      SPY       /NQ      MSFT  \\\n",
              "DateTime                                                                    \n",
              "2022-01-03 09:30:00  2022-01-03 09:30:02.000  476.320  16383.00  335.3500   \n",
              "2022-01-03 09:31:00  2022-01-03 09:31:00.000  476.475  16408.00  336.2700   \n",
              "2022-01-03 09:32:00  2022-01-03 09:32:00.000  476.690  16426.50  337.3000   \n",
              "2022-01-03 09:33:00  2022-01-03 09:33:00.000  476.610  16433.25  336.7698   \n",
              "2022-01-03 09:34:00  2022-01-03 09:34:00.000  476.920  16437.75  336.8300   \n",
              "\n",
              "                        AAPL    /RTY  \n",
              "DateTime                              \n",
              "2022-01-03 09:30:00  177.850  2255.7  \n",
              "2022-01-03 09:31:00  178.110  2261.5  \n",
              "2022-01-03 09:32:00  178.810  2257.8  \n",
              "2022-01-03 09:33:00  178.905  2261.6  \n",
              "2022-01-03 09:34:00  178.940  2266.9  "
            ]
          },
          "execution_count": 82,
          "metadata": {},
          "output_type": "execute_result"
        }
      ],
      "source": [
        "final_df.head(5)"
      ]
    },
    {
      "cell_type": "code",
      "execution_count": null,
      "metadata": {
        "id": "w8RF56X0JkAp"
      },
      "outputs": [],
      "source": [
        "final_df.to_csv('minute_data.csv')"
      ]
    },
    {
      "cell_type": "code",
      "execution_count": null,
      "metadata": {
        "id": "NlsVKFgqsITv"
      },
      "outputs": [],
      "source": [
        "# Hourly\n",
        "groupkey=pd.to_datetime(data_m['DateTime'].dt.strftime('%Y-%m-%d %H'))\n",
        "data_h = data_m.groupby(groupkey).agg({'timestamp':'last', 'Open':'last','High':'last',\n",
        "                                   'Low':'last','Close':'last',\n",
        "                                   'Volume':'last','VWAP':'last',\n",
        "                                   'Target':'last'})"
      ]
    },
    {
      "cell_type": "code",
      "execution_count": null,
      "metadata": {
        "colab": {
          "base_uri": "https://localhost:8080/",
          "height": 238
        },
        "id": "o63ExUvImkWb",
        "outputId": "9f61b950-11c3-4e01-83a8-2fd4f072feaf"
      },
      "outputs": [
        {
          "data": {
            "text/html": [
              "\n",
              "  <div id=\"df-92a9dd75-e89e-4402-a595-1851ed664732\">\n",
              "    <div class=\"colab-df-container\">\n",
              "      <div>\n",
              "<style scoped>\n",
              "    .dataframe tbody tr th:only-of-type {\n",
              "        vertical-align: middle;\n",
              "    }\n",
              "\n",
              "    .dataframe tbody tr th {\n",
              "        vertical-align: top;\n",
              "    }\n",
              "\n",
              "    .dataframe thead th {\n",
              "        text-align: right;\n",
              "    }\n",
              "</style>\n",
              "<table border=\"1\" class=\"dataframe\">\n",
              "  <thead>\n",
              "    <tr style=\"text-align: right;\">\n",
              "      <th></th>\n",
              "      <th>timestamp</th>\n",
              "      <th>Open</th>\n",
              "      <th>High</th>\n",
              "      <th>Low</th>\n",
              "      <th>Close</th>\n",
              "      <th>Volume</th>\n",
              "      <th>VWAP</th>\n",
              "      <th>Target</th>\n",
              "    </tr>\n",
              "    <tr>\n",
              "      <th>DateTime</th>\n",
              "      <th></th>\n",
              "      <th></th>\n",
              "      <th></th>\n",
              "      <th></th>\n",
              "      <th></th>\n",
              "      <th></th>\n",
              "      <th></th>\n",
              "      <th></th>\n",
              "    </tr>\n",
              "  </thead>\n",
              "  <tbody>\n",
              "    <tr>\n",
              "      <th>2018-07-28 08:00:00</th>\n",
              "      <td>1532768280</td>\n",
              "      <td>140.30</td>\n",
              "      <td>140.30</td>\n",
              "      <td>140.17</td>\n",
              "      <td>140.30</td>\n",
              "      <td>20.000000</td>\n",
              "      <td>140.275036</td>\n",
              "      <td>0.001996</td>\n",
              "    </tr>\n",
              "    <tr>\n",
              "      <th>2018-07-28 09:00:00</th>\n",
              "      <td>1532771820</td>\n",
              "      <td>139.92</td>\n",
              "      <td>139.92</td>\n",
              "      <td>139.92</td>\n",
              "      <td>139.92</td>\n",
              "      <td>0.750000</td>\n",
              "      <td>139.920000</td>\n",
              "      <td>0.001859</td>\n",
              "    </tr>\n",
              "    <tr>\n",
              "      <th>2018-07-28 10:00:00</th>\n",
              "      <td>1532775540</td>\n",
              "      <td>141.30</td>\n",
              "      <td>141.39</td>\n",
              "      <td>141.30</td>\n",
              "      <td>141.39</td>\n",
              "      <td>47.150000</td>\n",
              "      <td>141.379502</td>\n",
              "      <td>-0.001414</td>\n",
              "    </tr>\n",
              "    <tr>\n",
              "      <th>2018-07-28 11:00:00</th>\n",
              "      <td>1532778780</td>\n",
              "      <td>140.59</td>\n",
              "      <td>141.34</td>\n",
              "      <td>140.59</td>\n",
              "      <td>140.59</td>\n",
              "      <td>42.101000</td>\n",
              "      <td>141.298958</td>\n",
              "      <td>0.009492</td>\n",
              "    </tr>\n",
              "    <tr>\n",
              "      <th>2018-07-28 12:00:00</th>\n",
              "      <td>1532782740</td>\n",
              "      <td>140.26</td>\n",
              "      <td>140.26</td>\n",
              "      <td>140.26</td>\n",
              "      <td>140.26</td>\n",
              "      <td>1.383528</td>\n",
              "      <td>140.260000</td>\n",
              "      <td>-0.000572</td>\n",
              "    </tr>\n",
              "  </tbody>\n",
              "</table>\n",
              "</div>\n",
              "      <button class=\"colab-df-convert\" onclick=\"convertToInteractive('df-92a9dd75-e89e-4402-a595-1851ed664732')\"\n",
              "              title=\"Convert this dataframe to an interactive table.\"\n",
              "              style=\"display:none;\">\n",
              "        \n",
              "  <svg xmlns=\"http://www.w3.org/2000/svg\" height=\"24px\"viewBox=\"0 0 24 24\"\n",
              "       width=\"24px\">\n",
              "    <path d=\"M0 0h24v24H0V0z\" fill=\"none\"/>\n",
              "    <path d=\"M18.56 5.44l.94 2.06.94-2.06 2.06-.94-2.06-.94-.94-2.06-.94 2.06-2.06.94zm-11 1L8.5 8.5l.94-2.06 2.06-.94-2.06-.94L8.5 2.5l-.94 2.06-2.06.94zm10 10l.94 2.06.94-2.06 2.06-.94-2.06-.94-.94-2.06-.94 2.06-2.06.94z\"/><path d=\"M17.41 7.96l-1.37-1.37c-.4-.4-.92-.59-1.43-.59-.52 0-1.04.2-1.43.59L10.3 9.45l-7.72 7.72c-.78.78-.78 2.05 0 2.83L4 21.41c.39.39.9.59 1.41.59.51 0 1.02-.2 1.41-.59l7.78-7.78 2.81-2.81c.8-.78.8-2.07 0-2.86zM5.41 20L4 18.59l7.72-7.72 1.47 1.35L5.41 20z\"/>\n",
              "  </svg>\n",
              "      </button>\n",
              "      \n",
              "  <style>\n",
              "    .colab-df-container {\n",
              "      display:flex;\n",
              "      flex-wrap:wrap;\n",
              "      gap: 12px;\n",
              "    }\n",
              "\n",
              "    .colab-df-convert {\n",
              "      background-color: #E8F0FE;\n",
              "      border: none;\n",
              "      border-radius: 50%;\n",
              "      cursor: pointer;\n",
              "      display: none;\n",
              "      fill: #1967D2;\n",
              "      height: 32px;\n",
              "      padding: 0 0 0 0;\n",
              "      width: 32px;\n",
              "    }\n",
              "\n",
              "    .colab-df-convert:hover {\n",
              "      background-color: #E2EBFA;\n",
              "      box-shadow: 0px 1px 2px rgba(60, 64, 67, 0.3), 0px 1px 3px 1px rgba(60, 64, 67, 0.15);\n",
              "      fill: #174EA6;\n",
              "    }\n",
              "\n",
              "    [theme=dark] .colab-df-convert {\n",
              "      background-color: #3B4455;\n",
              "      fill: #D2E3FC;\n",
              "    }\n",
              "\n",
              "    [theme=dark] .colab-df-convert:hover {\n",
              "      background-color: #434B5C;\n",
              "      box-shadow: 0px 1px 3px 1px rgba(0, 0, 0, 0.15);\n",
              "      filter: drop-shadow(0px 1px 2px rgba(0, 0, 0, 0.3));\n",
              "      fill: #FFFFFF;\n",
              "    }\n",
              "  </style>\n",
              "\n",
              "      <script>\n",
              "        const buttonEl =\n",
              "          document.querySelector('#df-92a9dd75-e89e-4402-a595-1851ed664732 button.colab-df-convert');\n",
              "        buttonEl.style.display =\n",
              "          google.colab.kernel.accessAllowed ? 'block' : 'none';\n",
              "\n",
              "        async function convertToInteractive(key) {\n",
              "          const element = document.querySelector('#df-92a9dd75-e89e-4402-a595-1851ed664732');\n",
              "          const dataTable =\n",
              "            await google.colab.kernel.invokeFunction('convertToInteractive',\n",
              "                                                     [key], {});\n",
              "          if (!dataTable) return;\n",
              "\n",
              "          const docLinkHtml = 'Like what you see? Visit the ' +\n",
              "            '<a target=\"_blank\" href=https://colab.research.google.com/notebooks/data_table.ipynb>data table notebook</a>'\n",
              "            + ' to learn more about interactive tables.';\n",
              "          element.innerHTML = '';\n",
              "          dataTable['output_type'] = 'display_data';\n",
              "          await google.colab.output.renderOutput(dataTable, element);\n",
              "          const docLink = document.createElement('div');\n",
              "          docLink.innerHTML = docLinkHtml;\n",
              "          element.appendChild(docLink);\n",
              "        }\n",
              "      </script>\n",
              "    </div>\n",
              "  </div>\n",
              "  "
            ],
            "text/plain": [
              "                      timestamp    Open    High     Low   Close     Volume  \\\n",
              "DateTime                                                                     \n",
              "2018-07-28 08:00:00  1532768280  140.30  140.30  140.17  140.30  20.000000   \n",
              "2018-07-28 09:00:00  1532771820  139.92  139.92  139.92  139.92   0.750000   \n",
              "2018-07-28 10:00:00  1532775540  141.30  141.39  141.30  141.39  47.150000   \n",
              "2018-07-28 11:00:00  1532778780  140.59  141.34  140.59  140.59  42.101000   \n",
              "2018-07-28 12:00:00  1532782740  140.26  140.26  140.26  140.26   1.383528   \n",
              "\n",
              "                           VWAP    Target  \n",
              "DateTime                                   \n",
              "2018-07-28 08:00:00  140.275036  0.001996  \n",
              "2018-07-28 09:00:00  139.920000  0.001859  \n",
              "2018-07-28 10:00:00  141.379502 -0.001414  \n",
              "2018-07-28 11:00:00  141.298958  0.009492  \n",
              "2018-07-28 12:00:00  140.260000 -0.000572  "
            ]
          },
          "execution_count": 29,
          "metadata": {},
          "output_type": "execute_result"
        }
      ],
      "source": [
        "data_h[5000:5005]"
      ]
    },
    {
      "cell_type": "code",
      "execution_count": null,
      "metadata": {
        "id": "E6ghtvOomt_F"
      },
      "outputs": [],
      "source": [
        "data_h.to_csv(f'{name}_hourly.csv')"
      ]
    },
    {
      "cell_type": "code",
      "execution_count": null,
      "metadata": {
        "id": "mBUu0AuS6jbn"
      },
      "outputs": [],
      "source": [
        "# Daily\n",
        "groupkey=pd.to_datetime(pd.to_datetime(minute_stocks['DateTime']).dt.strftime('%Y-%m-%d'))\n",
        "data_d = minute_stocks.groupby(groupkey).agg({'TimeStamp':'last', 'SPY':'last','/NQ':'last',\n",
        "                                    'MSFT':'last','AAPL':'last',\n",
        "                                    '/RTY':'last'})"
      ]
    },
    {
      "cell_type": "code",
      "execution_count": null,
      "metadata": {
        "id": "tV1aBQPy7Jr_"
      },
      "outputs": [],
      "source": [
        "data_d.to_csv('daily_2022_2023.csv')"
      ]
    },
    {
      "cell_type": "code",
      "execution_count": null,
      "metadata": {
        "id": "TZVuHb4Emzcf"
      },
      "outputs": [],
      "source": [
        "# Daily\n",
        "groupkey=pd.to_datetime(data_m['DateTime'].dt.strftime('%Y-%m-%d'))\n",
        "data_d = data_m.groupby(groupkey).agg({'timestamp':'last', 'Open':'last','High':'last',\n",
        "                                   'Low':'last','Close':'last',\n",
        "                                   'Volume':'last','VWAP':'last',\n",
        "                                   'Target':'last'})"
      ]
    },
    {
      "cell_type": "code",
      "execution_count": null,
      "metadata": {
        "colab": {
          "base_uri": "https://localhost:8080/",
          "height": 238
        },
        "id": "UxHa_NrmVJE0",
        "outputId": "2f2f4568-79dd-4163-805b-fc3ec40796d5"
      },
      "outputs": [
        {
          "data": {
            "text/html": [
              "\n",
              "  <div id=\"df-15276c15-5328-4946-8f19-bce4ef2d60d4\">\n",
              "    <div class=\"colab-df-container\">\n",
              "      <div>\n",
              "<style scoped>\n",
              "    .dataframe tbody tr th:only-of-type {\n",
              "        vertical-align: middle;\n",
              "    }\n",
              "\n",
              "    .dataframe tbody tr th {\n",
              "        vertical-align: top;\n",
              "    }\n",
              "\n",
              "    .dataframe thead th {\n",
              "        text-align: right;\n",
              "    }\n",
              "</style>\n",
              "<table border=\"1\" class=\"dataframe\">\n",
              "  <thead>\n",
              "    <tr style=\"text-align: right;\">\n",
              "      <th></th>\n",
              "      <th>timestamp</th>\n",
              "      <th>Open</th>\n",
              "      <th>High</th>\n",
              "      <th>Low</th>\n",
              "      <th>Close</th>\n",
              "      <th>Volume</th>\n",
              "      <th>VWAP</th>\n",
              "      <th>Target</th>\n",
              "    </tr>\n",
              "    <tr>\n",
              "      <th>DateTime</th>\n",
              "      <th></th>\n",
              "      <th></th>\n",
              "      <th></th>\n",
              "      <th></th>\n",
              "      <th></th>\n",
              "      <th></th>\n",
              "      <th></th>\n",
              "      <th></th>\n",
              "    </tr>\n",
              "  </thead>\n",
              "  <tbody>\n",
              "    <tr>\n",
              "      <th>2018-07-20</th>\n",
              "      <td>1532131080</td>\n",
              "      <td>129.71</td>\n",
              "      <td>129.71</td>\n",
              "      <td>129.71</td>\n",
              "      <td>129.71</td>\n",
              "      <td>1.989998</td>\n",
              "      <td>129.710000</td>\n",
              "      <td>-0.000768</td>\n",
              "    </tr>\n",
              "    <tr>\n",
              "      <th>2018-07-21</th>\n",
              "      <td>1532217540</td>\n",
              "      <td>132.30</td>\n",
              "      <td>132.30</td>\n",
              "      <td>132.30</td>\n",
              "      <td>132.30</td>\n",
              "      <td>0.751000</td>\n",
              "      <td>132.300000</td>\n",
              "      <td>-0.005299</td>\n",
              "    </tr>\n",
              "    <tr>\n",
              "      <th>2018-07-22</th>\n",
              "      <td>1532303940</td>\n",
              "      <td>128.18</td>\n",
              "      <td>128.18</td>\n",
              "      <td>128.18</td>\n",
              "      <td>128.18</td>\n",
              "      <td>2.530428</td>\n",
              "      <td>128.180000</td>\n",
              "      <td>0.001482</td>\n",
              "    </tr>\n",
              "    <tr>\n",
              "      <th>2018-07-23</th>\n",
              "      <td>1532390100</td>\n",
              "      <td>133.51</td>\n",
              "      <td>133.51</td>\n",
              "      <td>133.30</td>\n",
              "      <td>133.46</td>\n",
              "      <td>72.545938</td>\n",
              "      <td>133.365513</td>\n",
              "      <td>0.002398</td>\n",
              "    </tr>\n",
              "    <tr>\n",
              "      <th>2018-07-24</th>\n",
              "      <td>1532476680</td>\n",
              "      <td>147.94</td>\n",
              "      <td>147.94</td>\n",
              "      <td>147.94</td>\n",
              "      <td>147.94</td>\n",
              "      <td>2.282000</td>\n",
              "      <td>147.940000</td>\n",
              "      <td>0.002231</td>\n",
              "    </tr>\n",
              "  </tbody>\n",
              "</table>\n",
              "</div>\n",
              "      <button class=\"colab-df-convert\" onclick=\"convertToInteractive('df-15276c15-5328-4946-8f19-bce4ef2d60d4')\"\n",
              "              title=\"Convert this dataframe to an interactive table.\"\n",
              "              style=\"display:none;\">\n",
              "        \n",
              "  <svg xmlns=\"http://www.w3.org/2000/svg\" height=\"24px\"viewBox=\"0 0 24 24\"\n",
              "       width=\"24px\">\n",
              "    <path d=\"M0 0h24v24H0V0z\" fill=\"none\"/>\n",
              "    <path d=\"M18.56 5.44l.94 2.06.94-2.06 2.06-.94-2.06-.94-.94-2.06-.94 2.06-2.06.94zm-11 1L8.5 8.5l.94-2.06 2.06-.94-2.06-.94L8.5 2.5l-.94 2.06-2.06.94zm10 10l.94 2.06.94-2.06 2.06-.94-2.06-.94-.94-2.06-.94 2.06-2.06.94z\"/><path d=\"M17.41 7.96l-1.37-1.37c-.4-.4-.92-.59-1.43-.59-.52 0-1.04.2-1.43.59L10.3 9.45l-7.72 7.72c-.78.78-.78 2.05 0 2.83L4 21.41c.39.39.9.59 1.41.59.51 0 1.02-.2 1.41-.59l7.78-7.78 2.81-2.81c.8-.78.8-2.07 0-2.86zM5.41 20L4 18.59l7.72-7.72 1.47 1.35L5.41 20z\"/>\n",
              "  </svg>\n",
              "      </button>\n",
              "      \n",
              "  <style>\n",
              "    .colab-df-container {\n",
              "      display:flex;\n",
              "      flex-wrap:wrap;\n",
              "      gap: 12px;\n",
              "    }\n",
              "\n",
              "    .colab-df-convert {\n",
              "      background-color: #E8F0FE;\n",
              "      border: none;\n",
              "      border-radius: 50%;\n",
              "      cursor: pointer;\n",
              "      display: none;\n",
              "      fill: #1967D2;\n",
              "      height: 32px;\n",
              "      padding: 0 0 0 0;\n",
              "      width: 32px;\n",
              "    }\n",
              "\n",
              "    .colab-df-convert:hover {\n",
              "      background-color: #E2EBFA;\n",
              "      box-shadow: 0px 1px 2px rgba(60, 64, 67, 0.3), 0px 1px 3px 1px rgba(60, 64, 67, 0.15);\n",
              "      fill: #174EA6;\n",
              "    }\n",
              "\n",
              "    [theme=dark] .colab-df-convert {\n",
              "      background-color: #3B4455;\n",
              "      fill: #D2E3FC;\n",
              "    }\n",
              "\n",
              "    [theme=dark] .colab-df-convert:hover {\n",
              "      background-color: #434B5C;\n",
              "      box-shadow: 0px 1px 3px 1px rgba(0, 0, 0, 0.15);\n",
              "      filter: drop-shadow(0px 1px 2px rgba(0, 0, 0, 0.3));\n",
              "      fill: #FFFFFF;\n",
              "    }\n",
              "  </style>\n",
              "\n",
              "      <script>\n",
              "        const buttonEl =\n",
              "          document.querySelector('#df-15276c15-5328-4946-8f19-bce4ef2d60d4 button.colab-df-convert');\n",
              "        buttonEl.style.display =\n",
              "          google.colab.kernel.accessAllowed ? 'block' : 'none';\n",
              "\n",
              "        async function convertToInteractive(key) {\n",
              "          const element = document.querySelector('#df-15276c15-5328-4946-8f19-bce4ef2d60d4');\n",
              "          const dataTable =\n",
              "            await google.colab.kernel.invokeFunction('convertToInteractive',\n",
              "                                                     [key], {});\n",
              "          if (!dataTable) return;\n",
              "\n",
              "          const docLinkHtml = 'Like what you see? Visit the ' +\n",
              "            '<a target=\"_blank\" href=https://colab.research.google.com/notebooks/data_table.ipynb>data table notebook</a>'\n",
              "            + ' to learn more about interactive tables.';\n",
              "          element.innerHTML = '';\n",
              "          dataTable['output_type'] = 'display_data';\n",
              "          await google.colab.output.renderOutput(dataTable, element);\n",
              "          const docLink = document.createElement('div');\n",
              "          docLink.innerHTML = docLinkHtml;\n",
              "          element.appendChild(docLink);\n",
              "        }\n",
              "      </script>\n",
              "    </div>\n",
              "  </div>\n",
              "  "
            ],
            "text/plain": [
              "             timestamp    Open    High     Low   Close     Volume        VWAP  \\\n",
              "DateTime                                                                        \n",
              "2018-07-20  1532131080  129.71  129.71  129.71  129.71   1.989998  129.710000   \n",
              "2018-07-21  1532217540  132.30  132.30  132.30  132.30   0.751000  132.300000   \n",
              "2018-07-22  1532303940  128.18  128.18  128.18  128.18   2.530428  128.180000   \n",
              "2018-07-23  1532390100  133.51  133.51  133.30  133.46  72.545938  133.365513   \n",
              "2018-07-24  1532476680  147.94  147.94  147.94  147.94   2.282000  147.940000   \n",
              "\n",
              "              Target  \n",
              "DateTime              \n",
              "2018-07-20 -0.000768  \n",
              "2018-07-21 -0.005299  \n",
              "2018-07-22  0.001482  \n",
              "2018-07-23  0.002398  \n",
              "2018-07-24  0.002231  "
            ]
          },
          "execution_count": 32,
          "metadata": {},
          "output_type": "execute_result"
        }
      ],
      "source": [
        "data_d[200:205]"
      ]
    },
    {
      "cell_type": "code",
      "execution_count": null,
      "metadata": {
        "id": "Reo6buxmVDk3"
      },
      "outputs": [],
      "source": [
        "data_d.to_csv(f'{name}_daily.csv')"
      ]
    },
    {
      "cell_type": "markdown",
      "metadata": {
        "id": "XD5xB8xjtwLh"
      },
      "source": [
        "# Pipeline"
      ]
    },
    {
      "cell_type": "markdown",
      "metadata": {
        "id": "C7l7q2O1q3iU"
      },
      "source": [
        "## LSTM model"
      ]
    },
    {
      "cell_type": "markdown",
      "metadata": {
        "id": "Q6SR-7v5oyzS"
      },
      "source": [
        "### Formatting data"
      ]
    },
    {
      "cell_type": "code",
      "execution_count": null,
      "metadata": {
        "id": "UQ08d-kqLe5Z"
      },
      "outputs": [],
      "source": [
        "def x_y_split(x_range, y_range, data, daily_data, timeframe, datetime, column, market_hours=False):\n",
        "  \n",
        "  if timeframe == 'day':\n",
        "    x_len = x_range\n",
        "  elif timeframe == 'hour':\n",
        "    if market_hours:\n",
        "      x_len = 8 * x_range\n",
        "    else:\n",
        "      x_len = 24 * x_range\n",
        "  elif timeframe == 'minute':\n",
        "    if market_hours:\n",
        "      x_len = 60 * 8 * x_range\n",
        "    else:\n",
        "      x_len = 60 * 24 * x_range\n",
        "  \n",
        "  x = np.zeros((len(data)-1-x_len, x_len))\n",
        "  y = np.zeros((len(data)-1-x_len, y_range))\n",
        "  y_date = pd.to_datetime(data[datetime][x_len])\n",
        "  for i in range(0, len(data)-x_len-1):\n",
        "    temp_x, temp_y = [], []\n",
        "\n",
        "    # for j in range(x_len):\n",
        "    #   temp_x.append(data[column][i+j])\n",
        "    temp_x = data[column][i:i+x_len]\n",
        "    y_date = pd.to_datetime(data[datetime][i+x_len])\n",
        "    \n",
        "    while len(temp_y) < y_range:\n",
        "      temp = daily_data[daily_data[datetime] == y_date.strftime(\"%Y-%m-%d\")][column]\n",
        "      temp = np.array(temp)\n",
        "      if len(temp) != 0:\n",
        "        temp_y.append(temp[0])\n",
        "      if y_date < pd.to_datetime(daily_data[datetime][len(daily_data)-1]):\n",
        "        y_date += pd.Timedelta(days=1)\n",
        "      else:\n",
        "        if len(temp_y) < y_range:\n",
        "          temp_y.append(daily_data[column][len(daily_data)-1])\n",
        "\n",
        "\n",
        "    # print(temp_x)\n",
        "    # print(temp_y)\n",
        "    # x.append(np.array(temp_x))\n",
        "    # y.append(np.array(temp_y))\n",
        "    x[i] += temp_x\n",
        "    y[i] += temp_y\n",
        "\n",
        "  return x, y"
      ]
    },
    {
      "cell_type": "code",
      "execution_count": null,
      "metadata": {
        "id": "PrcSjCqJNnXs"
      },
      "outputs": [],
      "source": [
        "x, y = x_y_split(x_range, y_range, data, daily_data, timeframe, datetime, stock, market_hours=True)"
      ]
    },
    {
      "cell_type": "code",
      "execution_count": null,
      "metadata": {
        "id": "68iS-gaaNW9C"
      },
      "outputs": [],
      "source": [
        "# Split data into training and testing\n",
        "x_train, x_test = train_test_split(x, test_size=test_size, shuffle=False)\n",
        "y_train, y_test = train_test_split(y, test_size=test_size, shuffle=False)"
      ]
    },
    {
      "cell_type": "code",
      "execution_count": null,
      "metadata": {
        "id": "h1i3K9DCpsVW"
      },
      "outputs": [],
      "source": [
        "# Given an x and y set, scales the data between a and b\n",
        "def scale_data(x, y, a, b):\n",
        "  min_ = min(np.amin(x), np.amin(y))\n",
        "  max_ = max(np.amax(x), np.amax(y))\n",
        "  x_scaled = (x - min_) / (max_ - min_) * (b - a) + a\n",
        "  y_scaled = (y - min_) / (max_ - min_) * (b - a) + a\n",
        "  return x_scaled, y_scaled, max_, min_"
      ]
    },
    {
      "cell_type": "code",
      "execution_count": null,
      "metadata": {
        "id": "dvQsERvZqI7W"
      },
      "outputs": [],
      "source": [
        "x_train, y_train, max_train, min_train = scale_data(x_train, y_train, 0, 1)\n",
        "x_test, y_test, max_test, min_test = scale_data(x_test, y_test, 0, 1)"
      ]
    },
    {
      "cell_type": "code",
      "execution_count": null,
      "metadata": {
        "id": "IneBhSmGCqvq"
      },
      "outputs": [],
      "source": [
        "# Reshapes the data for LSTM training\n",
        "# LSTM expects output in the form of (n_samples, timesteps, features)\n",
        "x_train = x_train.reshape(x_train.shape[0], x_train.shape[1],  1) \n",
        "x_test = x_test.reshape(x_test.shape[0], x_test.shape[1], 1) \n",
        "y_train = y_train.reshape(y_train.shape[0], y_train.shape[1],  1) \n",
        "y_test = y_test.reshape(y_test.shape[0], y_test.shape[1], 1) "
      ]
    },
    {
      "cell_type": "markdown",
      "metadata": {
        "id": "vihhOaLLu9g1"
      },
      "source": [
        "### Training"
      ]
    },
    {
      "cell_type": "code",
      "execution_count": null,
      "metadata": {
        "id": "mEngxFUBedMM"
      },
      "outputs": [],
      "source": [
        "# Clears the backend before training\n",
        "tf.keras.backend.clear_session()"
      ]
    },
    {
      "cell_type": "code",
      "source": [
        "timestep_dict = {'day':1, 'hour':8, 'minute':8*60}"
      ],
      "metadata": {
        "id": "-6AebzYV3xcB"
      },
      "execution_count": null,
      "outputs": []
    },
    {
      "cell_type": "code",
      "source": [
        "# FNN Model\n",
        "model = Sequential()\n",
        "model.add(Dense(x_range*timestep_dict[timeframe], input_shape=(x_range*timestep_dict[timeframe],)))\n",
        "model.add(Dense(5))\n",
        "model.compile(optimizer='adam', loss='mse')"
      ],
      "metadata": {
        "id": "iVmyWzbN2ZM9"
      },
      "execution_count": null,
      "outputs": []
    },
    {
      "cell_type": "code",
      "execution_count": null,
      "metadata": {
        "id": "eaFYmWYMCxT4"
      },
      "outputs": [],
      "source": [
        "# LSTM Model\n",
        "model = Sequential()\n",
        "model.add(LSTM(y_range, return_sequences=False,  \n",
        "               stateful=True))\n",
        "model.compile(optimizer='adam', loss='mse')"
      ]
    },
    {
      "cell_type": "code",
      "execution_count": null,
      "metadata": {
        "colab": {
          "base_uri": "https://localhost:8080/"
        },
        "id": "OXevhvEVy9U_",
        "outputId": "45b20d2c-938a-4581-9243-9d301592cc27"
      },
      "outputs": [
        {
          "output_type": "stream",
          "name": "stdout",
          "text": [
            "Epoch 1/5\n",
            "5685/5685 [==============================] - 64s 10ms/step - loss: 14.6434\n",
            "Epoch 2/5\n",
            "5685/5685 [==============================] - 60s 11ms/step - loss: 85.6005\n",
            "Epoch 3/5\n",
            "5685/5685 [==============================] - 63s 11ms/step - loss: 0.0035\n",
            "Epoch 4/5\n",
            "5685/5685 [==============================] - 59s 10ms/step - loss: 0.0152\n",
            "Epoch 5/5\n",
            "5685/5685 [==============================] - 60s 11ms/step - loss: 73.7210\n"
          ]
        },
        {
          "output_type": "execute_result",
          "data": {
            "text/plain": [
              "<keras.callbacks.History at 0x7f3bc413b790>"
            ]
          },
          "metadata": {},
          "execution_count": 17
        }
      ],
      "source": [
        "model.fit(x_train, y_train, epochs=10, batch_size=1, shuffle=False)"
      ]
    },
    {
      "cell_type": "code",
      "execution_count": null,
      "metadata": {
        "id": "NIR2z3FRYaHu"
      },
      "outputs": [],
      "source": [
        "tf.keras.models.save_model(model, 'minute_nq_ffn.h5')"
      ]
    },
    {
      "cell_type": "code",
      "execution_count": null,
      "metadata": {
        "id": "l17DqgmxgNf8"
      },
      "outputs": [],
      "source": [
        "pred = []\n",
        "for i in range(0, len(x_test), 60):\n",
        "  pred.append(model.predict(tf.convert_to_tensor(x_test[i:i+1]), verbose=0)) "
      ]
    },
    {
      "cell_type": "code",
      "execution_count": null,
      "metadata": {
        "id": "DMEgTfmiitCG"
      },
      "outputs": [],
      "source": [
        "pred = np.array(pred)\n",
        "pred = pred.reshape((pred.shape[0], pred.shape[-1]))"
      ]
    },
    {
      "cell_type": "code",
      "execution_count": null,
      "metadata": {
        "id": "ZyzpZdXYyDig"
      },
      "outputs": [],
      "source": [
        "def remove_sliding_window(data, pred):\n",
        "  y, p = [], []\n",
        "  for i in range(0, len(data)-1, y_range):\n",
        "    if not np.array_equal(data[i], data[i+1]):\n",
        "      y.append(data[i])\n",
        "      p.append(pred[i])\n",
        "  y = np.array(y)\n",
        "  p = np.array(p)\n",
        "  return y.flatten(), p.flatten()"
      ]
    },
    {
      "cell_type": "code",
      "execution_count": null,
      "metadata": {
        "id": "RwuBGnzsygN6"
      },
      "outputs": [],
      "source": [
        "y_ ,p_ = remove_sliding_window(y_test, h_pred)"
      ]
    },
    {
      "cell_type": "code",
      "execution_count": null,
      "metadata": {
        "id": "TZjQmreT3f3W"
      },
      "outputs": [],
      "source": [
        "def reverse_scale(x, min_, max_):\n",
        "  x_r = x * (max_ - min_) + min_\n",
        "  return x_r"
      ]
    },
    {
      "cell_type": "code",
      "execution_count": null,
      "metadata": {
        "id": "C19plEDZ0S4_"
      },
      "outputs": [],
      "source": [
        "def plot_preds(actual, pred, timeframe, column):\n",
        "  plt.figure(figsize=(16, 8))\n",
        "  plt.grid(False)\n",
        "  plt.plot(actual, label='Actual')\n",
        "  plt.plot(pred, label='Forecast')\n",
        "  plt.legend()\n",
        "  plt.xlabel('Days')\n",
        "  plt.ylabel('Price ($)')\n",
        "  plt.title(f'Actual vs forecast price of {column} ({timeframe} model)')\n",
        "  plt.show()"
      ]
    },
    {
      "cell_type": "code",
      "source": [
        "actual_vals = reverse_scale(y_, min_test, max_test)\n",
        "pred_vals = reverse_scale(p_, min_test, max_test)"
      ],
      "metadata": {
        "id": "zq8ZFESzBRva"
      },
      "execution_count": null,
      "outputs": []
    },
    {
      "cell_type": "code",
      "execution_count": null,
      "metadata": {
        "id": "ANEBZpP11XBE"
      },
      "outputs": [],
      "source": [
        "plot_preds(actual_vals, pred_vals, timeframe, 'NQ')"
      ]
    },
    {
      "cell_type": "markdown",
      "metadata": {
        "id": "g-lAvtpgvAzE"
      },
      "source": [
        "### Evaluating accuracy"
      ]
    },
    {
      "cell_type": "code",
      "execution_count": null,
      "metadata": {
        "id": "nXFShCwGvp5y"
      },
      "outputs": [],
      "source": [
        "# Defines all the accuracy metrics to be used in the analysis\n",
        "def smape(a, f):\n",
        "    return 1/len(a) * np.sum(2 * np.abs(f-a) / (np.abs(a) + np.abs(f))*100)\n",
        "\n",
        "def mse(a, f):\n",
        "  return math.sqrt(mean_squared_error(a, f))\n",
        "\n",
        "def mae(y_true, predictions):\n",
        "    y_true, predictions = np.array(y_true), np.array(predictions)\n",
        "    return np.mean(np.abs(y_true - predictions))\n",
        "\n",
        "def getTradingSignals(pred, actual):\n",
        "  signals = []\n",
        "  i, j = 0, 1\n",
        "  while j < len(pred):\n",
        "    if actual[j] > pred[i]:\n",
        "      signals.append(1)\n",
        "    elif actual[j] < pred[i]:\n",
        "      signals.append(-1)\n",
        "    else:\n",
        "      signals.append(0)\n",
        "    j += 1\n",
        "    i += 1\n",
        "\n",
        "  return signals\n",
        "\n",
        "def getTrendSimilarity(actual, forecast):\n",
        "    actual_signals = getTradingSignals(actual, actual)\n",
        "    forecast_signals = getTradingSignals(forecast, forecast)\n",
        "    trend_similarity = 0\n",
        "    for i in range(len(actual_signals)):\n",
        "      if actual_signals[i] == forecast_signals[i]:\n",
        "        trend_similarity += 1\n",
        "\n",
        "    trend_similarity = abs(len(actual_signals) - trend_similarity)\n",
        "    trend_similarity = (1 - trend_similarity/len(actual_signals)) * 100\n",
        "    return trend_similarity"
      ]
    },
    {
      "cell_type": "code",
      "execution_count": null,
      "metadata": {
        "id": "JUuNhNTivCsF"
      },
      "outputs": [],
      "source": [
        "def get_acc_metrics(actual, pred):\n",
        "  list_acc = []\n",
        "  list_acc.append(mae(actual, pred))\n",
        "  list_acc.append(mse(actual, pred))\n",
        "  list_acc.append(smape(actual, pred))\n",
        "  list_acc.append(getTrendSimilarity(actual, pred))\n",
        "  print('MAE', mae(actual, pred))\n",
        "  print('MSE', mse(actual, pred))\n",
        "  print('sMAPE', smape(actual, pred))\n",
        "  print('Trend Similarity', getTrendSimilarity(actual, pred))\n",
        "  return list_acc"
      ]
    },
    {
      "cell_type": "code",
      "source": [
        "get_acc_metrics(y_, p_)"
      ],
      "metadata": {
        "id": "TQD7JI8sB9bN"
      },
      "execution_count": null,
      "outputs": []
    }
  ],
  "metadata": {
    "accelerator": "GPU",
    "colab": {
      "provenance": [],
      "include_colab_link": true
    },
    "gpuClass": "standard",
    "kernelspec": {
      "display_name": "Python 3",
      "name": "python3"
    },
    "language_info": {
      "name": "python"
    }
  },
  "nbformat": 4,
  "nbformat_minor": 0
}